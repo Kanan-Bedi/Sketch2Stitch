{
 "cells": [
  {
   "cell_type": "code",
   "execution_count": 1,
   "metadata": {},
   "outputs": [],
   "source": [
    "import os\n",
    "import cv2"
   ]
  },
  {
   "cell_type": "code",
   "execution_count": 2,
   "metadata": {},
   "outputs": [
    {
     "name": "stdout",
     "output_type": "stream",
     "text": [
      "Sketches generated and saved in the 'sketches' folder.\n"
     ]
    }
   ],
   "source": [
    "# Function to generate sketch from an image and save it\n",
    "def generate_and_save_sketch(image_path, output_folder):\n",
    "    # Load the image\n",
    "    image = cv2.imread(image_path)\n",
    "\n",
    "    # Convert the image to grayscale\n",
    "    grey_img = cv2.cvtColor(image, cv2.COLOR_BGR2GRAY)\n",
    "\n",
    "    # Invert the grayscale image\n",
    "    invert = cv2.bitwise_not(grey_img)\n",
    "\n",
    "    # Apply Gaussian blur to the inverted image\n",
    "    blur = cv2.GaussianBlur(invert, (21, 21), 0)\n",
    "\n",
    "    # Invert the blurred image back\n",
    "    invertedblur = cv2.bitwise_not(blur)\n",
    "\n",
    "    # Divide the grayscale image by the inverted blurred image\n",
    "    sketch = cv2.divide(grey_img, invertedblur, scale=256.0)\n",
    "\n",
    "    # Extract filename from path\n",
    "    filename = os.path.basename(image_path)\n",
    "\n",
    "    # Save the sketch\n",
    "    output_path = os.path.join(output_folder, filename)\n",
    "    cv2.imwrite(output_path, sketch)\n",
    "\n",
    "# Path to the folder containing images\n",
    "input_folder = \"/Users/kananbedi/Desktop/gans/data/cloth\"  # Provide the directory containing the images\n",
    "\n",
    "# Create a folder to save the sketches if it doesn't exist\n",
    "output_folder = \"/Users/kananbedi/Desktop/gans/data/sketch_images\"\n",
    "os.makedirs(output_folder, exist_ok=True)\n",
    "\n",
    "# Iterate over all images in the folder\n",
    "for image_name in os.listdir(input_folder):\n",
    "    # Generate sketch for each image\n",
    "    image_path = os.path.join(input_folder, image_name)\n",
    "    generate_and_save_sketch(image_path, output_folder)\n",
    "\n",
    "print(\"Sketches generated and saved in the 'sketches' folder.\")\n",
    "\n",
    "  # converted image is saved as mentioned name"
   ]
  },
  {
   "cell_type": "code",
   "execution_count": null,
   "metadata": {},
   "outputs": [],
   "source": []
  }
 ],
 "metadata": {
  "kernelspec": {
   "display_name": "base",
   "language": "python",
   "name": "python3"
  },
  "language_info": {
   "codemirror_mode": {
    "name": "ipython",
    "version": 3
   },
   "file_extension": ".py",
   "mimetype": "text/x-python",
   "name": "python",
   "nbconvert_exporter": "python",
   "pygments_lexer": "ipython3",
   "version": "3.11.5"
  }
 },
 "nbformat": 4,
 "nbformat_minor": 2
}
